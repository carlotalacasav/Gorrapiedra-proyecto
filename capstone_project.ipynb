{
 "cells": [
  {
   "cell_type": "markdown",
   "metadata": {},
   "source": [
    "# 2024 Bike Availability Prediction"
   ]
  },
  {
   "cell_type": "code",
   "execution_count": null,
   "metadata": {},
   "outputs": [],
   "source": [
    "# Importar librerías que vamos a estar usando en general\n",
    "import pandas as pd\n",
    "import numpy as np\n",
    "import matplotlib.pyplot as plt"
   ]
  },
  {
   "cell_type": "markdown",
   "metadata": {},
   "source": [
    "## Load data"
   ]
  },
  {
   "cell_type": "markdown",
   "metadata": {},
   "source": [
    "Descarga de datos en el caso de Windows"
   ]
  },
  {
   "cell_type": "code",
   "execution_count": null,
   "metadata": {},
   "outputs": [],
   "source": [
    "# Librerías para poder descargar los datos\n",
    "! pip install py7zr\n",
    "import os\n",
    "import requests\n",
    "import py7zr\n",
    "\n",
    "# Lista de tuplas de meses\n",
    "i2m = list(zip(range(1,13), ['Gener','Febrer','Marc','Abril','Maig','Juny','Juliol','Agost','Setembre','Octubre','Novembre','Desembre']))\n",
    "\n",
    "# Directorio donde guardar los archivos descargados\n",
    "download_dir = \"C:/Users/34627/OneDrive/Postgrado UB/PROYECTO FINAL\"\n",
    "\n",
    "# Iterar sobre años y meses\n",
    "for year in [2023, 2022, 2021, 2020]:\n",
    "    for month, month_name in i2m:        \n",
    "        # URL del archivo a descargar\n",
    "        url = f\"https://opendata-ajuntament.barcelona.cat/resources/bcn/BicingBCN/{year}_{month:02d}_{month_name}_BicingNou_ESTACIONS.7z\"\n",
    "        \n",
    "        # Nombre del archivo\n",
    "        filename = os.path.join(download_dir, f\"{year}_{month:02d}_{month_name}_BicingNou_ESTACIONS.7z\")\n",
    "        \n",
    "        # Descargar el archivo\n",
    "        response = requests.get(url)\n",
    "        with open(filename, 'wb') as f:\n",
    "            f.write(response.content)\n",
    "        \n",
    "        # Descomprimir el archivo\n",
    "        with py7zr.SevenZipFile(filename, 'r') as zip_ref:\n",
    "            zip_ref.extractall(download_dir)\n",
    "        \n",
    "        # Eliminar el archivo comprimido\n",
    "        os.remove(filename)\n"
   ]
  },
  {
   "cell_type": "code",
   "execution_count": null,
   "metadata": {},
   "outputs": [],
   "source": [
    "## Cargamos los datos\n",
    "\n",
    "# Vamos a predeterminar los datos a ordenar en el dataset\n",
    "years = ['2020', '2021', '2022', '2023']\n",
    "months = ['Gener', 'Febrer', 'Marc', 'Abril', 'Maig', 'Juny', 'Juliol', 'Agost', 'Setembre', 'Octubre', 'Novembre', 'Desembre']\n",
    "indx = ['01', '02', '03', '04', '05', '06', '07', '08', '09', '10', '11', '12']\n",
    "\n",
    "dir = \"C:/Users/34627/OneDrive/Postgrado UB/PROYECTO FINAL/raw_data\"\n",
    "data = pd.DataFrame()\n",
    "\n",
    "# Recorreremos los años, índices y meses\n",
    "for year in years:\n",
    "    for index, month in zip(indx, months):\n",
    "        # Nombre del archivo\n",
    "        nombre_archivo = '{}_{:02d}_{}_BicingNou_ESTACIONS.csv'.format(year, index, month)\n",
    "        # Verificación de archivo\n",
    "        if nombre_archivo in os.listdir(dir):\n",
    "            # Leer el archivo CSV y cargar los datos en el DataFrame\n",
    "            month_year = pd.read_csv(os.path.join(dir, nombre_archivo))\n",
    "            # Concatenar los datos al DataFrame \n",
    "            data = pd.concat([data, month_year], ignore_index=True)\n",
    "\n",
    "# Visualizar la tabla de datos completa\n",
    "print(data.head())\n"
   ]
  },
  {
   "cell_type": "markdown",
   "metadata": {},
   "source": [
    "## Data cleaning"
   ]
  },
  {
   "cell_type": "code",
   "execution_count": null,
   "metadata": {},
   "outputs": [],
   "source": [
    "# Eliminamos columnas no relevantes (V1, traffic = todo son Nans)\n",
    "columnas_no = ['traffic']\n",
    "data = data.drop(columnas_no, axis = 1)"
   ]
  },
  {
   "cell_type": "code",
   "execution_count": null,
   "metadata": {},
   "outputs": [],
   "source": [
    "# Detectar filas con valores NaN\n",
    "filas_con_nans = data[data.isna().any(axis=1)]\n",
    "\n",
    "# Visualizar las filas con valores NaN\n",
    "print(\"Filas con valores NaN:\")\n",
    "print(filas_con_nans)"
   ]
  },
  {
   "cell_type": "code",
   "execution_count": 20,
   "metadata": {},
   "outputs": [],
   "source": [
    "# Reemplazar NaN con la media\n",
    "data.fillna(data.mean(), inplace=True)"
   ]
  },
  {
   "cell_type": "code",
   "execution_count": null,
   "metadata": {},
   "outputs": [],
   "source": [
    "# Normalización de los datos\n",
    "from sklearn.preprocessing import MinMaxScaler\n",
    "\n",
    "scaler = MinMaxScaler()\n",
    "data[['caracteristica1', 'caracteristica2']] = scaler.fit_transform(data[['caracteristica1', 'caracteristica2']])"
   ]
  }
 ],
 "metadata": {
  "kernelspec": {
   "display_name": "Python 3",
   "language": "python",
   "name": "python3"
  },
  "language_info": {
   "codemirror_mode": {
    "name": "ipython",
    "version": 3
   },
   "file_extension": ".py",
   "mimetype": "text/x-python",
   "name": "python",
   "nbconvert_exporter": "python",
   "pygments_lexer": "ipython3",
   "version": "3.11.4"
  }
 },
 "nbformat": 4,
 "nbformat_minor": 2
}
