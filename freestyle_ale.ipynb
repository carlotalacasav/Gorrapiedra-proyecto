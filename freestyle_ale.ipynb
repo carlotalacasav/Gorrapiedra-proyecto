{
 "cells": [
  {
   "cell_type": "markdown",
   "metadata": {},
   "source": [
    "# Doc para testear y mirar cómo son los datos inicialmente\n",
    "Alejandro Jaramillo\n",
    "\n",
    "19/04/2024"
   ]
  },
  {
   "cell_type": "code",
   "execution_count": 1,
   "metadata": {},
   "outputs": [],
   "source": [
    "import pandas as pd\n",
    "import numpy as np\n",
    "import matplotlib.pyplot as plt"
   ]
  },
  {
   "cell_type": "code",
   "execution_count": 2,
   "metadata": {},
   "outputs": [],
   "source": [
    "months = ['Gener', 'Febrer', 'Marc', 'Abril', 'Maig', 'Juny', 'Juliol', 'Agost', 'Setembre', 'Octubre', 'Novembre', 'Desembre']\n",
    "indeces = ['01', '02', '03', '04', '05', '06', '07', '08', '09', '10', '11', '12']\n",
    "years = ['2020', '2021', '2022', '2023']"
   ]
  },
  {
   "cell_type": "code",
   "execution_count": 3,
   "metadata": {},
   "outputs": [
    {
     "name": "stderr",
     "output_type": "stream",
     "text": [
      "/var/folders/gt/v7xq73cx0nj74cmjgsw8ql_00000gn/T/ipykernel_84052/408983374.py:9: DtypeWarning: Columns (6) have mixed types. Specify dtype option on import or set low_memory=False.\n",
      "  month_year = pd.read_csv('../raw_data/{}_{}_{}_BicingNou_ESTACIONS.csv'.format(year, index, month))\n",
      "/var/folders/gt/v7xq73cx0nj74cmjgsw8ql_00000gn/T/ipykernel_84052/408983374.py:9: DtypeWarning: Columns (7) have mixed types. Specify dtype option on import or set low_memory=False.\n",
      "  month_year = pd.read_csv('../raw_data/{}_{}_{}_BicingNou_ESTACIONS.csv'.format(year, index, month))\n"
     ]
    }
   ],
   "source": [
    "## OJO ##\n",
    "# EN 2021 Y 2022 EL DOCUMENTO SE LLAMA MARÇ EN VEZ DE MARC, HAY QUE CAMBIARLO A MARC PARA QUE FUNCIONE\n",
    "\n",
    "years = [2023]\n",
    "\n",
    "data = pd.DataFrame()\n",
    "for year in years:\n",
    "    for index, month in zip(indeces, months):\n",
    "        month_year = pd.read_csv('../raw_data/{}_{}_{}_BicingNou_ESTACIONS.csv'.format(year, index, month))\n",
    "        data = pd.concat([data, month_year])"
   ]
  },
  {
   "cell_type": "code",
   "execution_count": 5,
   "metadata": {},
   "outputs": [
    {
     "data": {
      "text/html": [
       "<div>\n",
       "<style scoped>\n",
       "    .dataframe tbody tr th:only-of-type {\n",
       "        vertical-align: middle;\n",
       "    }\n",
       "\n",
       "    .dataframe tbody tr th {\n",
       "        vertical-align: top;\n",
       "    }\n",
       "\n",
       "    .dataframe thead th {\n",
       "        text-align: right;\n",
       "    }\n",
       "</style>\n",
       "<table border=\"1\" class=\"dataframe\">\n",
       "  <thead>\n",
       "    <tr style=\"text-align: right;\">\n",
       "      <th></th>\n",
       "      <th>station_id</th>\n",
       "      <th>num_bikes_available</th>\n",
       "      <th>num_bikes_available_types.mechanical</th>\n",
       "      <th>num_bikes_available_types.ebike</th>\n",
       "      <th>num_docks_available</th>\n",
       "      <th>last_reported</th>\n",
       "      <th>is_charging_station</th>\n",
       "      <th>status</th>\n",
       "      <th>is_installed</th>\n",
       "      <th>is_renting</th>\n",
       "      <th>is_returning</th>\n",
       "      <th>traffic</th>\n",
       "      <th>last_updated</th>\n",
       "      <th>ttl</th>\n",
       "    </tr>\n",
       "  </thead>\n",
       "  <tbody>\n",
       "    <tr>\n",
       "      <th>0</th>\n",
       "      <td>1.0</td>\n",
       "      <td>38.0</td>\n",
       "      <td>35.0</td>\n",
       "      <td>3.0</td>\n",
       "      <td>8.0</td>\n",
       "      <td>1.672528e+09</td>\n",
       "      <td>True</td>\n",
       "      <td>IN_SERVICE</td>\n",
       "      <td>1.0</td>\n",
       "      <td>1.0</td>\n",
       "      <td>1.0</td>\n",
       "      <td>NaN</td>\n",
       "      <td>1.672528e+09</td>\n",
       "      <td>19.0</td>\n",
       "    </tr>\n",
       "    <tr>\n",
       "      <th>1</th>\n",
       "      <td>2.0</td>\n",
       "      <td>6.0</td>\n",
       "      <td>5.0</td>\n",
       "      <td>1.0</td>\n",
       "      <td>23.0</td>\n",
       "      <td>1.672527e+09</td>\n",
       "      <td>True</td>\n",
       "      <td>IN_SERVICE</td>\n",
       "      <td>1.0</td>\n",
       "      <td>1.0</td>\n",
       "      <td>1.0</td>\n",
       "      <td>NaN</td>\n",
       "      <td>1.672528e+09</td>\n",
       "      <td>19.0</td>\n",
       "    </tr>\n",
       "    <tr>\n",
       "      <th>2</th>\n",
       "      <td>3.0</td>\n",
       "      <td>20.0</td>\n",
       "      <td>20.0</td>\n",
       "      <td>0.0</td>\n",
       "      <td>7.0</td>\n",
       "      <td>1.672527e+09</td>\n",
       "      <td>True</td>\n",
       "      <td>IN_SERVICE</td>\n",
       "      <td>1.0</td>\n",
       "      <td>1.0</td>\n",
       "      <td>1.0</td>\n",
       "      <td>NaN</td>\n",
       "      <td>1.672528e+09</td>\n",
       "      <td>19.0</td>\n",
       "    </tr>\n",
       "    <tr>\n",
       "      <th>3</th>\n",
       "      <td>4.0</td>\n",
       "      <td>19.0</td>\n",
       "      <td>19.0</td>\n",
       "      <td>0.0</td>\n",
       "      <td>2.0</td>\n",
       "      <td>1.672528e+09</td>\n",
       "      <td>True</td>\n",
       "      <td>IN_SERVICE</td>\n",
       "      <td>1.0</td>\n",
       "      <td>1.0</td>\n",
       "      <td>1.0</td>\n",
       "      <td>NaN</td>\n",
       "      <td>1.672528e+09</td>\n",
       "      <td>19.0</td>\n",
       "    </tr>\n",
       "    <tr>\n",
       "      <th>4</th>\n",
       "      <td>5.0</td>\n",
       "      <td>4.0</td>\n",
       "      <td>3.0</td>\n",
       "      <td>1.0</td>\n",
       "      <td>35.0</td>\n",
       "      <td>1.672527e+09</td>\n",
       "      <td>True</td>\n",
       "      <td>IN_SERVICE</td>\n",
       "      <td>1.0</td>\n",
       "      <td>1.0</td>\n",
       "      <td>1.0</td>\n",
       "      <td>NaN</td>\n",
       "      <td>1.672528e+09</td>\n",
       "      <td>19.0</td>\n",
       "    </tr>\n",
       "    <tr>\n",
       "      <th>...</th>\n",
       "      <td>...</td>\n",
       "      <td>...</td>\n",
       "      <td>...</td>\n",
       "      <td>...</td>\n",
       "      <td>...</td>\n",
       "      <td>...</td>\n",
       "      <td>...</td>\n",
       "      <td>...</td>\n",
       "      <td>...</td>\n",
       "      <td>...</td>\n",
       "      <td>...</td>\n",
       "      <td>...</td>\n",
       "      <td>...</td>\n",
       "      <td>...</td>\n",
       "    </tr>\n",
       "    <tr>\n",
       "      <th>4525541</th>\n",
       "      <td>515.0</td>\n",
       "      <td>5.0</td>\n",
       "      <td>5.0</td>\n",
       "      <td>0.0</td>\n",
       "      <td>19.0</td>\n",
       "      <td>1.704064e+09</td>\n",
       "      <td>True</td>\n",
       "      <td>IN_SERVICE</td>\n",
       "      <td>1.0</td>\n",
       "      <td>1.0</td>\n",
       "      <td>1.0</td>\n",
       "      <td>NaN</td>\n",
       "      <td>1.704065e+09</td>\n",
       "      <td>1.0</td>\n",
       "    </tr>\n",
       "    <tr>\n",
       "      <th>4525542</th>\n",
       "      <td>516.0</td>\n",
       "      <td>10.0</td>\n",
       "      <td>2.0</td>\n",
       "      <td>8.0</td>\n",
       "      <td>10.0</td>\n",
       "      <td>1.704064e+09</td>\n",
       "      <td>True</td>\n",
       "      <td>IN_SERVICE</td>\n",
       "      <td>1.0</td>\n",
       "      <td>1.0</td>\n",
       "      <td>1.0</td>\n",
       "      <td>NaN</td>\n",
       "      <td>1.704065e+09</td>\n",
       "      <td>1.0</td>\n",
       "    </tr>\n",
       "    <tr>\n",
       "      <th>4525543</th>\n",
       "      <td>517.0</td>\n",
       "      <td>8.0</td>\n",
       "      <td>1.0</td>\n",
       "      <td>7.0</td>\n",
       "      <td>11.0</td>\n",
       "      <td>1.704064e+09</td>\n",
       "      <td>True</td>\n",
       "      <td>IN_SERVICE</td>\n",
       "      <td>1.0</td>\n",
       "      <td>1.0</td>\n",
       "      <td>1.0</td>\n",
       "      <td>NaN</td>\n",
       "      <td>1.704065e+09</td>\n",
       "      <td>1.0</td>\n",
       "    </tr>\n",
       "    <tr>\n",
       "      <th>4525544</th>\n",
       "      <td>518.0</td>\n",
       "      <td>3.0</td>\n",
       "      <td>1.0</td>\n",
       "      <td>2.0</td>\n",
       "      <td>24.0</td>\n",
       "      <td>1.704064e+09</td>\n",
       "      <td>True</td>\n",
       "      <td>IN_SERVICE</td>\n",
       "      <td>1.0</td>\n",
       "      <td>1.0</td>\n",
       "      <td>1.0</td>\n",
       "      <td>NaN</td>\n",
       "      <td>1.704065e+09</td>\n",
       "      <td>1.0</td>\n",
       "    </tr>\n",
       "    <tr>\n",
       "      <th>4525545</th>\n",
       "      <td>519.0</td>\n",
       "      <td>6.0</td>\n",
       "      <td>0.0</td>\n",
       "      <td>6.0</td>\n",
       "      <td>17.0</td>\n",
       "      <td>1.704064e+09</td>\n",
       "      <td>True</td>\n",
       "      <td>IN_SERVICE</td>\n",
       "      <td>1.0</td>\n",
       "      <td>1.0</td>\n",
       "      <td>1.0</td>\n",
       "      <td>NaN</td>\n",
       "      <td>1.704065e+09</td>\n",
       "      <td>1.0</td>\n",
       "    </tr>\n",
       "  </tbody>\n",
       "</table>\n",
       "<p>49193647 rows × 14 columns</p>\n",
       "</div>"
      ],
      "text/plain": [
       "         station_id  num_bikes_available  \\\n",
       "0               1.0                 38.0   \n",
       "1               2.0                  6.0   \n",
       "2               3.0                 20.0   \n",
       "3               4.0                 19.0   \n",
       "4               5.0                  4.0   \n",
       "...             ...                  ...   \n",
       "4525541       515.0                  5.0   \n",
       "4525542       516.0                 10.0   \n",
       "4525543       517.0                  8.0   \n",
       "4525544       518.0                  3.0   \n",
       "4525545       519.0                  6.0   \n",
       "\n",
       "         num_bikes_available_types.mechanical  \\\n",
       "0                                        35.0   \n",
       "1                                         5.0   \n",
       "2                                        20.0   \n",
       "3                                        19.0   \n",
       "4                                         3.0   \n",
       "...                                       ...   \n",
       "4525541                                   5.0   \n",
       "4525542                                   2.0   \n",
       "4525543                                   1.0   \n",
       "4525544                                   1.0   \n",
       "4525545                                   0.0   \n",
       "\n",
       "         num_bikes_available_types.ebike  num_docks_available  last_reported  \\\n",
       "0                                    3.0                  8.0   1.672528e+09   \n",
       "1                                    1.0                 23.0   1.672527e+09   \n",
       "2                                    0.0                  7.0   1.672527e+09   \n",
       "3                                    0.0                  2.0   1.672528e+09   \n",
       "4                                    1.0                 35.0   1.672527e+09   \n",
       "...                                  ...                  ...            ...   \n",
       "4525541                              0.0                 19.0   1.704064e+09   \n",
       "4525542                              8.0                 10.0   1.704064e+09   \n",
       "4525543                              7.0                 11.0   1.704064e+09   \n",
       "4525544                              2.0                 24.0   1.704064e+09   \n",
       "4525545                              6.0                 17.0   1.704064e+09   \n",
       "\n",
       "        is_charging_station      status  is_installed  is_renting  \\\n",
       "0                      True  IN_SERVICE           1.0         1.0   \n",
       "1                      True  IN_SERVICE           1.0         1.0   \n",
       "2                      True  IN_SERVICE           1.0         1.0   \n",
       "3                      True  IN_SERVICE           1.0         1.0   \n",
       "4                      True  IN_SERVICE           1.0         1.0   \n",
       "...                     ...         ...           ...         ...   \n",
       "4525541                True  IN_SERVICE           1.0         1.0   \n",
       "4525542                True  IN_SERVICE           1.0         1.0   \n",
       "4525543                True  IN_SERVICE           1.0         1.0   \n",
       "4525544                True  IN_SERVICE           1.0         1.0   \n",
       "4525545                True  IN_SERVICE           1.0         1.0   \n",
       "\n",
       "         is_returning  traffic  last_updated   ttl  \n",
       "0                 1.0      NaN  1.672528e+09  19.0  \n",
       "1                 1.0      NaN  1.672528e+09  19.0  \n",
       "2                 1.0      NaN  1.672528e+09  19.0  \n",
       "3                 1.0      NaN  1.672528e+09  19.0  \n",
       "4                 1.0      NaN  1.672528e+09  19.0  \n",
       "...               ...      ...           ...   ...  \n",
       "4525541           1.0      NaN  1.704065e+09   1.0  \n",
       "4525542           1.0      NaN  1.704065e+09   1.0  \n",
       "4525543           1.0      NaN  1.704065e+09   1.0  \n",
       "4525544           1.0      NaN  1.704065e+09   1.0  \n",
       "4525545           1.0      NaN  1.704065e+09   1.0  \n",
       "\n",
       "[49193647 rows x 14 columns]"
      ]
     },
     "execution_count": 5,
     "metadata": {},
     "output_type": "execute_result"
    }
   ],
   "source": [
    "data = data.drop('V1', axis = 1)\n",
    "data"
   ]
  },
  {
   "cell_type": "code",
   "execution_count": 10,
   "metadata": {},
   "outputs": [
    {
     "data": {
      "text/plain": [
       "array([[<Axes: title={'center': 'station_id'}>]], dtype=object)"
      ]
     },
     "execution_count": 10,
     "metadata": {},
     "output_type": "execute_result"
    },
    {
     "data": {
      "image/png": "[encoded data removed]",
      "text/plain": [
       "<Figure size 640x480 with 1 Axes>"
      ]
     },
     "metadata": {},
     "output_type": "display_data"
    }
   ],
   "source": [
    "data.hist('station_id', bins = 1)\n",
    "# uniforme, mismas instancias de todos los valores"
   ]
  },
  {
   "cell_type": "code",
   "execution_count": 11,
   "metadata": {},
   "outputs": [
    {
     "data": {
      "text/plain": [
       "array([[<Axes: title={'center': 'num_bikes_available'}>]], dtype=object)"
      ]
     },
     "execution_count": 11,
     "metadata": {},
     "output_type": "execute_result"
    },
    {
     "data": {
      "image/png": "[encoded data removed]",
      "text/plain": [
       "<Figure size 640x480 with 1 Axes>"
      ]
     },
     "metadata": {},
     "output_type": "display_data"
    }
   ],
   "source": [
    "data.hist('num_bikes_available')\n",
    "# no hay outliers"
   ]
  },
  {
   "cell_type": "code",
   "execution_count": 12,
   "metadata": {},
   "outputs": [
    {
     "data": {
      "text/plain": [
       "array([[<Axes: title={'center': 'num_bikes_available_types.mechanical'}>]],\n",
       "      dtype=object)"
      ]
     },
     "execution_count": 12,
     "metadata": {},
     "output_type": "execute_result"
    },
    {
     "data": {
      "image/png": "[encoded data removed]",
      "text/plain": [
       "<Figure size 640x480 with 1 Axes>"
      ]
     },
     "metadata": {},
     "output_type": "display_data"
    }
   ],
   "source": [
    "data.hist('num_bikes_available_types.mechanical')\n",
    "# no hay outliers"
   ]
  },
  {
   "cell_type": "code",
   "execution_count": null,
   "metadata": {},
   "outputs": [],
   "source": []
  }
 ],
 "metadata": {
  "kernelspec": {
   "display_name": "PG",
   "language": "python",
   "name": "python3"
  },
  "language_info": {
   "codemirror_mode": {
    "name": "ipython",
    "version": 3
   },
   "file_extension": ".py",
   "mimetype": "text/x-python",
   "name": "python",
   "nbconvert_exporter": "python",
   "pygments_lexer": "ipython3",
   "version": "3.12.2"
  }
 },
 "nbformat": 4,
 "nbformat_minor": 2
}
