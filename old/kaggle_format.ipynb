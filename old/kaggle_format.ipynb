{
 "cells": [
  {
   "cell_type": "markdown",
   "metadata": {},
   "source": [
    "**Load data from csv**"
   ]
  },
  {
   "cell_type": "code",
   "execution_count": 8,
   "metadata": {},
   "outputs": [],
   "source": [
    "import pandas as pd\n",
    "from sklearn.linear_model import LinearRegression\n",
    "\n",
    "data = pd.read_csv(\"data/formated_data/data_2023.csv\")\n",
    "test_data = pd.read_csv(\"data/test/metadata_sample_submission_2024.csv\")"
   ]
  },
  {
   "cell_type": "code",
   "execution_count": 12,
   "metadata": {},
   "outputs": [
    {
     "data": {
      "text/html": [
       "<div>\n",
       "<style scoped>\n",
       "    .dataframe tbody tr th:only-of-type {\n",
       "        vertical-align: middle;\n",
       "    }\n",
       "\n",
       "    .dataframe tbody tr th {\n",
       "        vertical-align: top;\n",
       "    }\n",
       "\n",
       "    .dataframe thead th {\n",
       "        text-align: right;\n",
       "    }\n",
       "</style>\n",
       "<table border=\"1\" class=\"dataframe\">\n",
       "  <thead>\n",
       "    <tr style=\"text-align: right;\">\n",
       "      <th></th>\n",
       "      <th>index</th>\n",
       "      <th>station_id</th>\n",
       "      <th>year</th>\n",
       "      <th>month</th>\n",
       "      <th>day</th>\n",
       "      <th>hour</th>\n",
       "      <th>ctx-4</th>\n",
       "      <th>ctx-3</th>\n",
       "      <th>ctx-2</th>\n",
       "      <th>ctx-1</th>\n",
       "      <th>percentage_docks_available</th>\n",
       "    </tr>\n",
       "  </thead>\n",
       "  <tbody>\n",
       "    <tr>\n",
       "      <th>0</th>\n",
       "      <td>0</td>\n",
       "      <td>1.0</td>\n",
       "      <td>2023.0</td>\n",
       "      <td>1.0</td>\n",
       "      <td>1.0</td>\n",
       "      <td>2.0</td>\n",
       "      <td>0.173913</td>\n",
       "      <td>0.183293</td>\n",
       "      <td>0.144928</td>\n",
       "      <td>0.157931</td>\n",
       "      <td>0.136364</td>\n",
       "    </tr>\n",
       "    <tr>\n",
       "      <th>1</th>\n",
       "      <td>1</td>\n",
       "      <td>1.0</td>\n",
       "      <td>2023.0</td>\n",
       "      <td>1.0</td>\n",
       "      <td>1.0</td>\n",
       "      <td>7.0</td>\n",
       "      <td>0.143398</td>\n",
       "      <td>0.126812</td>\n",
       "      <td>0.150362</td>\n",
       "      <td>0.143357</td>\n",
       "      <td>0.186594</td>\n",
       "    </tr>\n",
       "    <tr>\n",
       "      <th>2</th>\n",
       "      <td>2</td>\n",
       "      <td>1.0</td>\n",
       "      <td>2023.0</td>\n",
       "      <td>1.0</td>\n",
       "      <td>1.0</td>\n",
       "      <td>12.0</td>\n",
       "      <td>0.217391</td>\n",
       "      <td>0.204710</td>\n",
       "      <td>0.195652</td>\n",
       "      <td>0.193841</td>\n",
       "      <td>0.195974</td>\n",
       "    </tr>\n",
       "    <tr>\n",
       "      <th>3</th>\n",
       "      <td>3</td>\n",
       "      <td>1.0</td>\n",
       "      <td>2023.0</td>\n",
       "      <td>1.0</td>\n",
       "      <td>1.0</td>\n",
       "      <td>17.0</td>\n",
       "      <td>0.293961</td>\n",
       "      <td>0.302174</td>\n",
       "      <td>0.335749</td>\n",
       "      <td>0.357528</td>\n",
       "      <td>0.386594</td>\n",
       "    </tr>\n",
       "    <tr>\n",
       "      <th>4</th>\n",
       "      <td>4</td>\n",
       "      <td>1.0</td>\n",
       "      <td>2023.0</td>\n",
       "      <td>1.0</td>\n",
       "      <td>1.0</td>\n",
       "      <td>22.0</td>\n",
       "      <td>0.277979</td>\n",
       "      <td>0.219203</td>\n",
       "      <td>0.288043</td>\n",
       "      <td>0.536232</td>\n",
       "      <td>0.588768</td>\n",
       "    </tr>\n",
       "  </tbody>\n",
       "</table>\n",
       "</div>"
      ],
      "text/plain": [
       "   index  station_id    year  month  day  hour     ctx-4     ctx-3     ctx-2  \\\n",
       "0      0         1.0  2023.0    1.0  1.0   2.0  0.173913  0.183293  0.144928   \n",
       "1      1         1.0  2023.0    1.0  1.0   7.0  0.143398  0.126812  0.150362   \n",
       "2      2         1.0  2023.0    1.0  1.0  12.0  0.217391  0.204710  0.195652   \n",
       "3      3         1.0  2023.0    1.0  1.0  17.0  0.293961  0.302174  0.335749   \n",
       "4      4         1.0  2023.0    1.0  1.0  22.0  0.277979  0.219203  0.288043   \n",
       "\n",
       "      ctx-1  percentage_docks_available  \n",
       "0  0.157931                    0.136364  \n",
       "1  0.143357                    0.186594  \n",
       "2  0.193841                    0.195974  \n",
       "3  0.357528                    0.386594  \n",
       "4  0.536232                    0.588768  "
      ]
     },
     "execution_count": 12,
     "metadata": {},
     "output_type": "execute_result"
    }
   ],
   "source": [
    "data = data.rename(columns={\"Unnamed: 0\": \"index\"})\n",
    "data.head()"
   ]
  },
  {
   "cell_type": "code",
   "execution_count": 13,
   "metadata": {},
   "outputs": [
    {
     "name": "stdout",
     "output_type": "stream",
     "text": [
      "[0.73538596 0.7148015  0.84367434 ... 0.98526863 1.19071542 1.35602621]\n"
     ]
    }
   ],
   "source": [
    "\n",
    "# Seleccionem variables independents i la target variable.\n",
    "features = [\"index\", \"station_id\", \"ctx-4\", \"ctx-3\", \"ctx-2\", \"ctx-1\"]\n",
    "\n",
    "# No separem en train i test perquè per test fem servir 2024\n",
    "X_train = data[features]\n",
    "y_train = data[\"percentage_docks_available\"]\n",
    "X_test = test_data[features]\n",
    "\n",
    "model = LinearRegression()\n",
    "model.fit(X_train, y_train)\n",
    "\n",
    "predictions = model.predict(X_test)\n",
    "\n",
    "print(predictions)"
   ]
  },
  {
   "cell_type": "markdown",
   "metadata": {},
   "source": [
    "**Formato data para kaggle**"
   ]
  },
  {
   "cell_type": "code",
   "execution_count": 24,
   "metadata": {},
   "outputs": [],
   "source": [
    "import datetime\n",
    "data = pd.DataFrame({\"index\": range(len(predictions)), \"percentage_docks_available\": predictions})\n",
    "now = datetime.datetime.now()\n",
    "timestamp = now.strftime(\"%m_%d_%H_%M\")  # mes_dia_hora_min\n",
    "filename = f\"data/results/predictions_{timestamp}.csv\"\n",
    "\n",
    "data.to_csv(filename, index=False)\n"
   ]
  },
  {
   "cell_type": "code",
   "execution_count": null,
   "metadata": {},
   "outputs": [],
   "source": []
  }
 ],
 "metadata": {
  "kernelspec": {
   "display_name": "env",
   "language": "python",
   "name": "python3"
  },
  "language_info": {
   "codemirror_mode": {
    "name": "ipython",
    "version": 3
   },
   "file_extension": ".py",
   "mimetype": "text/x-python",
   "name": "python",
   "nbconvert_exporter": "python",
   "pygments_lexer": "ipython3",
   "version": "3.10.12"
  }
 },
 "nbformat": 4,
 "nbformat_minor": 2
}
