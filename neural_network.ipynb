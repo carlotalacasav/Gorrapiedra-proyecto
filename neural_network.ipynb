{
 "cells": [
  {
   "cell_type": "markdown",
   "metadata": {},
   "source": [
    "# Neural Network"
   ]
  },
  {
   "cell_type": "code",
   "execution_count": null,
   "metadata": {},
   "outputs": [],
   "source": [
    "# Importem les llibreries bàsiques i específiques per la xarxa neuronal\n",
    "import pandas as pd\n",
    "import numpy as np\n",
    "import matplotlib.pyplot as plt\n",
    "import os\n",
    "from tqdm import tqdm, trange\n",
    "\n",
    "import tensorflow as tf\n",
    "from tensorflow.keras.models import Sequential\n",
    "from tensorflow.keras.layers import Input, Dense, Output, Dropout\n",
    "from sklearn.model_selection import train_test_split\n",
    "from sklearn.preprocessing import StandardScaler\n",
    "from sklearn.metrics import mean_squared_error, r2_score"
   ]
  },
  {
   "cell_type": "markdown",
   "metadata": {},
   "source": [
    "### Load processed data"
   ]
  },
  {
   "cell_type": "code",
   "execution_count": null,
   "metadata": {},
   "outputs": [],
   "source": [
    "pth = \"C:/Users/34627/Documents/GitHub/Gorrapiedra-proyecto/data/formated data\"\n",
    "\n",
    "df_20 = pd.read_csv(os.path.join(pth, \"data_2020.csv\"), index_col=False, skipinitialspace=True, skip_blank_lines=True)\n",
    "df_21 = pd.read_csv(os.path.join(pth, \"data_2021.csv\"), index_col=False, skipinitialspace=True, skip_blank_lines=True)\n",
    "df_22 = pd.read_csv(os.path.join(pth, \"data_2022.csv\"), index_col=False, skipinitialspace=True, skip_blank_lines=True)\n",
    "df_23 = pd.read_csv(os.path.join(pth, \"data_2023.csv\"), index_col=False, skipinitialspace=True, skip_blank_lines=True)\n",
    "df = pd.concat([df_20, df_21, df_22, df_23], ignore_index = True)\n",
    "\n",
    "if 'Unnamed: 0' in df.columns:\n",
    "    df = df.drop(['Unnamed: 0'], axis=1)   # Eliminar columna Unnamed\n",
    "\n",
    "# Visualitzar el df\n",
    "df.head()"
   ]
  },
  {
   "cell_type": "code",
   "execution_count": null,
   "metadata": {},
   "outputs": [],
   "source": [
    "# Separar les característiques (X) de la variable objectiu (y)\n",
    "X = df.drop(['percentage_docks_available'], axis=1)\n",
    "y = df['percentage_docks_available']"
   ]
  },
  {
   "cell_type": "code",
   "execution_count": null,
   "metadata": {},
   "outputs": [],
   "source": [
    "# Dividim les dades en conjunts de training i testing\n",
    "X_train, X_validation, y_train, y_validation = train_test_split(X, y, test_size=0.2, random_state=42)"
   ]
  },
  {
   "cell_type": "markdown",
   "metadata": {},
   "source": [
    "### Neural Network"
   ]
  },
  {
   "cell_type": "code",
   "execution_count": null,
   "metadata": {},
   "outputs": [],
   "source": [
    "pip install tensorflow"
   ]
  },
  {
   "cell_type": "code",
   "execution_count": null,
   "metadata": {},
   "outputs": [],
   "source": [
    "# Encoding\n",
    "cat_cols = ['station_id']\n",
    "x_train_encoded = pd.get_dummies(X_train, columns=cat_cols)\n",
    "x_validation_encoded = pd.get_dummies(X_validation, columns=cat_cols)"
   ]
  },
  {
   "cell_type": "code",
   "execution_count": null,
   "metadata": {},
   "outputs": [
    {
     "name": "stdout",
     "output_type": "stream",
     "text": [
      "Missing columns in validation set: set()\n",
      "Training set shape after deleting columns: (2292612, 518)\n",
      "Validation set shape: (982548, 518)\n"
     ]
    }
   ],
   "source": [
    "# Veiem si el training set y el validation set tenen diferent número de columnes després del encoding. Mirem quines son les columnes que falten al validation set.\n",
    "missing_cols = set(x_train_encoded.columns) - set(x_validation_encoded.columns)\n",
    "print(\"Missing columns in validation set:\", missing_cols)\n",
    "\n",
    "# Si hay columnas que faltan en el validation set, las borramos del training set\n",
    "for col in missing_cols:\n",
    "    x_train_encoded.drop(col, axis=1, inplace=True)\n",
    "\n",
    "print(\"Training set shape after deleting columns:\", x_train_encoded.shape)\n",
    "print(\"Validation set shape:\", x_validation_encoded.shape)"
   ]
  },
  {
   "cell_type": "code",
   "execution_count": null,
   "metadata": {},
   "outputs": [
    {
     "name": "stdout",
     "output_type": "stream",
     "text": [
      "Training set shape: (2292612, 518)\n",
      "Validation set shape: (982548, 518)\n"
     ]
    }
   ],
   "source": [
    "# Normalitzar les dades\n",
    "scaler = StandardScaler()\n",
    "\n",
    "x_train_encoded_scal = scaler.fit_transform(x_train_encoded)\n",
    "x_validation_encoded_scal = scaler.fit_transform(x_validation_encoded) # A XVALIDATION SHA DE FER FIT_TRANSFORM TAMBÉ PERQUÈ SIGUIN INDEPENDENTS TRAINING I VALIDATION NO?\n",
    "\n",
    "print(\"Training set shape:\", x_train_encoded_scal.shape)\n",
    "print(\"Validation set shape:\", x_validation_encoded_scal.shape)"
   ]
  },
  {
   "cell_type": "code",
   "execution_count": null,
   "metadata": {},
   "outputs": [],
   "source": [
    "# Construir el modelo neuronal\n",
    "model = Sequential([\n",
    "    Dense(64, input_dim=X_train.shape[1], activation='relu'),\n",
    "    Dense(32, activation='relu'),\n",
    "    Dense(1)  # Capa de salida para regresión\n",
    "])\n",
    "\n",
    "# Compilar el modelo\n",
    "model.compile(optimizer='adam', loss='mse')\n",
    "\n",
    "# Entrenar el modelo\n",
    "model.fit(X_train, y_train, epochs=15, batch_size=32, validation_split=0.2)"
   ]
  },
  {
   "cell_type": "code",
   "execution_count": null,
   "metadata": {},
   "outputs": [
    {
     "name": "stdout",
     "output_type": "stream",
     "text": [
      "Epoch 1/10\n",
      "\u001b[1m47763/47763\u001b[0m \u001b[32m━━━━━━━━━━━━━━━━━━━━\u001b[0m\u001b[37m\u001b[0m \u001b[1m89s\u001b[0m 2ms/step - loss: 0.0329 - root_mean_squared_error: 0.1725 - val_loss: 0.0159 - val_root_mean_squared_error: 0.1262\n",
      "Epoch 2/10\n",
      "\u001b[1m47763/47763\u001b[0m \u001b[32m━━━━━━━━━━━━━━━━━━━━\u001b[0m\u001b[37m\u001b[0m \u001b[1m120s\u001b[0m 2ms/step - loss: 0.0168 - root_mean_squared_error: 0.1294 - val_loss: 0.0143 - val_root_mean_squared_error: 0.1198\n",
      "Epoch 3/10\n",
      "\u001b[1m47763/47763\u001b[0m \u001b[32m━━━━━━━━━━━━━━━━━━━━\u001b[0m\u001b[37m\u001b[0m \u001b[1m125s\u001b[0m 3ms/step - loss: 0.0165 - root_mean_squared_error: 0.1286 - val_loss: 0.0154 - val_root_mean_squared_error: 0.1239\n",
      "Epoch 4/10\n",
      "\u001b[1m47763/47763\u001b[0m \u001b[32m━━━━━━━━━━━━━━━━━━━━\u001b[0m\u001b[37m\u001b[0m \u001b[1m199s\u001b[0m 4ms/step - loss: 0.0165 - root_mean_squared_error: 0.1284 - val_loss: 0.0150 - val_root_mean_squared_error: 0.1226\n",
      "Epoch 5/10\n",
      "\u001b[1m47763/47763\u001b[0m \u001b[32m━━━━━━━━━━━━━━━━━━━━\u001b[0m\u001b[37m\u001b[0m \u001b[1m184s\u001b[0m 4ms/step - loss: 0.0163 - root_mean_squared_error: 0.1279 - val_loss: 0.0156 - val_root_mean_squared_error: 0.1248\n",
      "Epoch 6/10\n",
      "\u001b[1m47763/47763\u001b[0m \u001b[32m━━━━━━━━━━━━━━━━━━━━\u001b[0m\u001b[37m\u001b[0m \u001b[1m231s\u001b[0m 5ms/step - loss: 0.0163 - root_mean_squared_error: 0.1278 - val_loss: 0.0153 - val_root_mean_squared_error: 0.1236\n",
      "Epoch 7/10\n",
      "\u001b[1m47763/47763\u001b[0m \u001b[32m━━━━━━━━━━━━━━━━━━━━\u001b[0m\u001b[37m\u001b[0m \u001b[1m204s\u001b[0m 4ms/step - loss: 0.0163 - root_mean_squared_error: 0.1278 - val_loss: 0.0172 - val_root_mean_squared_error: 0.1311\n",
      "Epoch 8/10\n",
      "\u001b[1m47763/47763\u001b[0m \u001b[32m━━━━━━━━━━━━━━━━━━━━\u001b[0m\u001b[37m\u001b[0m \u001b[1m212s\u001b[0m 4ms/step - loss: 0.0163 - root_mean_squared_error: 0.1275 - val_loss: 0.0155 - val_root_mean_squared_error: 0.1245\n",
      "Epoch 9/10\n",
      "\u001b[1m47763/47763\u001b[0m \u001b[32m━━━━━━━━━━━━━━━━━━━━\u001b[0m\u001b[37m\u001b[0m \u001b[1m227s\u001b[0m 5ms/step - loss: 0.0163 - root_mean_squared_error: 0.1276 - val_loss: 0.0152 - val_root_mean_squared_error: 0.1233\n",
      "Epoch 10/10\n",
      "\u001b[1m47763/47763\u001b[0m \u001b[32m━━━━━━━━━━━━━━━━━━━━\u001b[0m\u001b[37m\u001b[0m \u001b[1m248s\u001b[0m 5ms/step - loss: 0.0163 - root_mean_squared_error: 0.1277 - val_loss: 0.0161 - val_root_mean_squared_error: 0.1267\n"
     ]
    }
   ],
   "source": [
    "#from tensorflow import keras\n",
    "#from tensorflow.keras import layers\n",
    "\n",
    "lr = 1e-3\n",
    "Nhid1 = 20\n",
    "Nhid2 = 20\n",
    "Nhid3 = 19\n",
    "Nhid4 = 19\n",
    "activ = 'relu'\n",
    "loss_f = 'mse'\n",
    "optim = 'adam'\n",
    "bs = 48\n",
    "epochs = 10\n",
    "\n",
    "# Define the neural network architecture\n",
    "net = Sequential([\n",
    "    Input(shape=(x_train_encoded_scal.shape[1],)), \n",
    "    Dense(Nhid1, activation='Sigmoid'),\n",
    "    Dropout(0.2),\n",
    "    Dense(Nhid2, activation=activ),\n",
    "    Dropout(0.2),\n",
    "    Dense(Nhid3, activation=activ),\n",
    "    Dropout(0.2),\n",
    "    Dense(Nhid4, activation=activ),\n",
    "    Dropout(0.2),\n",
    "    Dense(1, activation='linear')\n",
    "])\n",
    "\n",
    "# Compile the model\n",
    "net.compile(optimizer=optim, loss=loss_f)\n",
    "\n",
    "# Train the model\n",
    "history = net.fit(x_train_encoded_scal, y_train, epochs=epochs, batch_size=bs, validation_data=(x_validation_encoded_scal, y_validation))"
   ]
  },
  {
   "cell_type": "code",
   "execution_count": null,
   "metadata": {},
   "outputs": [],
   "source": [
    "# Evaluate the model\n",
    "loss, accuracy = net.evaluate(x_validation_encoded_scal, y_validation, verbose=1)  \n",
    "\n",
    "# Make predictions\n",
    "y_pred = net.predict(x_validation_encoded_scal)"
   ]
  },
  {
   "cell_type": "code",
   "execution_count": null,
   "metadata": {},
   "outputs": [
    {
     "name": "stdout",
     "output_type": "stream",
     "text": [
      "\u001b[1m30705/30705\u001b[0m \u001b[32m━━━━━━━━━━━━━━━━━━━━\u001b[0m\u001b[37m\u001b[0m \u001b[1m11s\u001b[0m 339us/step - loss: 0.0161 - root_mean_squared_error: 0.1267\n",
      "\u001b[1m30705/30705\u001b[0m \u001b[32m━━━━━━━━━━━━━━━━━━━━\u001b[0m\u001b[37m\u001b[0m \u001b[1m10s\u001b[0m 317us/step\n",
      "Test Loss: 0.0161\n",
      "Adam, mse, 0.001, 20, 20, 19, 19, Bs 48, Epoch_10, Final loss_0.0161\n"
     ]
    },
    {
     "data": {
      "image/png": "[encoded data removed]",
      "text/plain": [
       "<Figure size 1200x400 with 1 Axes>"
      ]
     },
     "metadata": {},
     "output_type": "display_data"
    }
   ],
   "source": [
    "print(f'Test Loss: {loss:.4f}')\n",
    "\n",
    "# Plot loss\n",
    "\n",
    "title = f\"Adam, {loss_f}, {lr}, {Nhid1}, {Nhid2}, {Nhid3}, {Nhid4}, Bs {bs}, Epoch_{epochs}, Final loss_{loss:.4f}\"\n",
    "\n",
    "plt.figure(figsize=(12, 4))\n",
    "plt.title(title)\n",
    "plt.plot(history.history['loss'], label='Training Loss')\n",
    "plt.plot(history.history['val_loss'], label='Validation Loss')\n",
    "plt.title('Model Loss')\n",
    "plt.ylabel('Loss')\n",
    "plt.xlabel('Epoch')\n",
    "plt.legend(loc='upper right')\n",
    "#plt.savefig(f'/Users/albam/Desktop/UNIVERSITAT/POSTGRAU/CAPSTONE_PROJECT/Gorrapiedra-proyecto/outputs/loss-ann/{title}.pdf')\n",
    "print(title)\n",
    "plt.show()"
   ]
  },
  {
   "cell_type": "code",
   "execution_count": null,
   "metadata": {},
   "outputs": [],
   "source": [
    "# Feature importance NO PROVAT a ver si de repente sale algo\n",
    "importances = net.feature_importances_\n",
    "indices = np.argsort(importances)[::-1]\n",
    "\n",
    "# Print the feature ranking\n",
    "print(\"Feature ranking:\")\n",
    "for f in range(x_train_encoded_scal.shape[1]):\n",
    "    print(f\"{f + 1}. feature {indices[f]} ({importances[indices[f]]})\") "
   ]
  }
 ],
 "metadata": {
  "language_info": {
   "name": "python"
  }
 },
 "nbformat": 4,
 "nbformat_minor": 2
}
